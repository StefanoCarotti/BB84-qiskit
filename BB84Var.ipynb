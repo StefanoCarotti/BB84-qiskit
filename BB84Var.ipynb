{
 "cells": [
  {
   "cell_type": "code",
   "id": "initial_id",
   "metadata": {
    "collapsed": true,
    "ExecuteTime": {
     "end_time": "2025-02-11T23:38:09.127006Z",
     "start_time": "2025-02-11T23:38:08.680661Z"
    }
   },
   "source": [
    "# Import necessary modules\n",
    "from qiskit import QuantumCircuit, ClassicalRegister, QuantumRegister, transpile\n",
    "from qiskit_aer import Aer\n",
    "from qiskit.visualization import plot_histogram\n",
    "import random\n",
    "import numpy as np"
   ],
   "outputs": [],
   "execution_count": 2
  },
  {
   "metadata": {},
   "cell_type": "markdown",
   "source": [
    "# BB84 Protocol with Eavesdropping\n",
    "This notebook demonstrates the BB84 protocol with eavesdropping. \n",
    " \n",
    "The protocol is secure against eavesdropping, as it uses the principles of quantum mechanics to detect any eavesdropping attempts. "
   ],
   "id": "d0878e9a564d102d"
  },
  {
   "metadata": {
    "ExecuteTime": {
     "end_time": "2025-02-11T23:38:09.520030Z",
     "start_time": "2025-02-11T23:38:09.515423Z"
    }
   },
   "cell_type": "code",
   "source": [
    "# Setting up the environment\n",
    "n = 28 # Length of the key to be generated\n",
    "# Alice's operations\n",
    "\n",
    "circuit = QuantumCircuit(n, n)\n",
    "\n",
    "\n",
    "alice_key = np.random.randint(0, 2, size = n)   \n",
    "alice_basis = np.random.randint(0, 2, size=n)  \n",
    "\n",
    "\n",
    "for i, bit in enumerate(alice_key): \n",
    "    if bit == 1:        \n",
    "        circuit.x(i)  \n",
    "\n",
    "\n",
    "for i, basis in enumerate(alice_basis):\n",
    "    if basis == 1:\n",
    "        circuit.h(i)  \n",
    "\n",
    "print(alice_key)"
   ],
   "id": "141fb6034da20fdd",
   "outputs": [
    {
     "name": "stdout",
     "output_type": "stream",
     "text": [
      "[0 0 1 0 1 0 0 0 1 1 1 1 1 1 1 1 0 1 0 0 0 1 1 0 0 1 1 1]\n"
     ]
    }
   ],
   "execution_count": 3
  },
  {
   "metadata": {
    "ExecuteTime": {
     "end_time": "2025-02-11T23:38:18.688954Z",
     "start_time": "2025-02-11T23:38:10.225805Z"
    }
   },
   "cell_type": "code",
   "source": [
    "# Eve's operations\n",
    "\n",
    "eve_basis = np.random.randint(0, 2, size=n) \n",
    "\n",
    "\n",
    "\n",
    "for i, basis in enumerate(eve_basis):\n",
    "    if basis == 1:\n",
    "        circuit.h(i)  # Apply Hadamard to measure in the X-basis\n",
    "\n",
    "circuit.measure(range(n),range(n)) #This represents the interception by Eve\n",
    "\n",
    "\n",
    "simulator = Aer.get_backend('qasm_simulator')\n",
    "circ = transpile(circuit, simulator)\n",
    "result = simulator.run(circ, shots = 1).result()\n",
    "eve_results = result.get_counts(circ).keys()\n",
    "eve_results = np.array([int(k) for k in list(eve_results)[0]])\n",
    "eve_results = np.flip(eve_results)\n",
    "print(eve_results)\n",
    "\n",
    "eve_circuit = QuantumCircuit(n, n)  # Eve new qubits to send to Bob, trying to emulate Alice's qubits\n",
    "for i in range(n):\n",
    "\n",
    "    if eve_results[i] == 1:\n",
    "        eve_circuit.x(i)  \n",
    "\n",
    "    if eve_basis[i] == 1:\n",
    "        eve_circuit.h(i)  "
   ],
   "id": "ea21422025a41742",
   "outputs": [
    {
     "name": "stdout",
     "output_type": "stream",
     "text": [
      "[0 0 1 0 1 1 1 0 1 0 0 0 0 0 0 1 0 1 0 0 0 1 0 1 0 0 0 1]\n"
     ]
    }
   ],
   "execution_count": 4
  },
  {
   "metadata": {
    "ExecuteTime": {
     "end_time": "2025-02-11T23:38:30.242082Z",
     "start_time": "2025-02-11T23:38:23.232239Z"
    }
   },
   "cell_type": "code",
   "source": [
    "# Bob's operations\n",
    "\n",
    "bob_basis = np.random.randint(0, 2, size=n)\n",
    "\n",
    "for i, basis in enumerate(bob_basis):\n",
    "    if basis == 1:\n",
    "        eve_circuit.h(i)  # Apply Hadamard for diagonal basis\n",
    "\n",
    "\n",
    "eve_circuit.measure(range(n), range(n))\n",
    "\n",
    "\n",
    "simulator = Aer.get_backend('qasm_simulator')\n",
    "circ = transpile(eve_circuit, simulator)\n",
    "result = simulator.run(circ, shots = 1).result()\n",
    "counts = result.get_counts(circ)\n",
    "#plot_histogram(counts)"
   ],
   "id": "9c0df3290c72bb6f",
   "outputs": [],
   "execution_count": 5
  },
  {
   "metadata": {
    "ExecuteTime": {
     "end_time": "2025-02-11T23:38:33.154112Z",
     "start_time": "2025-02-11T23:38:33.148799Z"
    }
   },
   "cell_type": "code",
   "source": [
    "\n",
    "total_measurements = sum(counts.values())\n",
    "print(\"Total Measurements:\", total_measurements)\n",
    "\n",
    "most_common_result = max(counts, key=counts.get) \n",
    "print(\"Most common result:\", most_common_result)\n",
    "\n",
    "bob_results = most_common_result \n",
    "bob_results = np.array([int(k) for k in bob_results]) \n",
    "bob_results = np.flip(bob_results)\n",
    "\n",
    "print(\"Alice's key:   \", alice_key)\n",
    "print(\"Eve's results: \", eve_results)\n",
    "print(\"Bob's results: \", bob_results)"
   ],
   "id": "40fe47f137ea4080",
   "outputs": [
    {
     "name": "stdout",
     "output_type": "stream",
     "text": [
      "Total Measurements: 1\n",
      "Most common result: 0100101000111101010101100000\n",
      "Alice's key:    [0 0 1 0 1 0 0 0 1 1 1 1 1 1 1 1 0 1 0 0 0 1 1 0 0 1 1 1]\n",
      "Eve's results:  [0 0 1 0 1 1 1 0 1 0 0 0 0 0 0 1 0 1 0 0 0 1 0 1 0 0 0 1]\n",
      "Bob's results:  [0 0 0 0 0 1 1 0 1 0 1 0 1 0 1 1 1 1 0 0 0 1 0 1 0 0 1 0]\n"
     ]
    }
   ],
   "execution_count": 6
  },
  {
   "metadata": {
    "ExecuteTime": {
     "end_time": "2025-02-11T23:38:35.754957Z",
     "start_time": "2025-02-11T23:38:35.750391Z"
    }
   },
   "cell_type": "code",
   "source": [
    "# Key generation\n",
    "print(\"BB84 Protocol with Eavesdropping, keys should match if there is no eavesdropping\")\n",
    "print(\"-----------------------------------------------------------------------------\")\n",
    "\n",
    "print(\"Alice's basis:\", alice_basis)\n",
    "print(\"Bob's basis:  \", bob_basis)\n",
    "matching_bases = [i for i in range(n) if alice_basis[i] == bob_basis[i]] # Communication only happens regarding the bases, not the qubits\n",
    "\n",
    "\n",
    "bob_key = [bob_results[i] for i in matching_bases]\n",
    "alice_key_shared = [alice_key[i] for i in matching_bases]\n",
    "\n",
    "print(\"---------------------------------------------\")\n",
    "\n",
    "print(\"Alice's key: \", alice_key_shared)\n",
    "print(\"Bob's key:   \", bob_key)"
   ],
   "id": "f373ba4bd3a8fef4",
   "outputs": [
    {
     "name": "stdout",
     "output_type": "stream",
     "text": [
      "BB84 Protocol with Eavesdropping, keys should match if there is no eavesdropping\n",
      "-----------------------------------------------------------------------------\n",
      "Alice's basis: [0 1 1 0 1 0 1 0 0 1 1 0 1 1 0 0 1 1 1 0 1 1 0 1 0 1 0 1]\n",
      "Bob's basis:   [1 1 1 1 0 1 0 1 0 0 1 1 1 0 0 1 1 1 1 0 1 1 0 0 1 1 0 0]\n",
      "---------------------------------------------\n",
      "Alice's key:  [0, 1, 1, 1, 1, 1, 0, 1, 0, 0, 0, 1, 1, 1, 1]\n",
      "Bob's key:    [0, 0, 1, 1, 1, 1, 1, 1, 0, 0, 0, 1, 0, 0, 1]\n"
     ]
    }
   ],
   "execution_count": 7
  },
  {
   "metadata": {
    "ExecuteTime": {
     "end_time": "2025-02-11T23:38:44.263187Z",
     "start_time": "2025-02-11T23:38:44.260079Z"
    }
   },
   "cell_type": "code",
   "source": [
    "# Check for eavesdropping\n",
    "\n",
    "print(\"Checking for eavesdropping...\")\n",
    "print(\"Check done by comparing the two complete keys\")\n",
    "print(\"---------------------------------------------\")\n",
    "\n",
    "\n",
    "if alice_key_shared == bob_key:\n",
    "    print(\"No eavesdropping detected. Secure key exchange.\")\n",
    "else:\n",
    "    print(\"Eavesdropping detected. Secure key exchange not possible.\")\n",
    "print(\"---------------------------------------------\")"
   ],
   "id": "ded2a759a84ed49d",
   "outputs": [
    {
     "name": "stdout",
     "output_type": "stream",
     "text": [
      "Checking for eavesdropping...\n",
      "Check done by comparing the two complete keys\n",
      "---------------------------------------------\n",
      "Eavesdropping detected. Secure key exchange not possible.\n",
      "---------------------------------------------\n"
     ]
    }
   ],
   "execution_count": 8
  },
  {
   "metadata": {
    "ExecuteTime": {
     "end_time": "2025-02-11T23:38:48.260500Z",
     "start_time": "2025-02-11T23:38:48.257040Z"
    }
   },
   "cell_type": "code",
   "source": [
    "\n",
    "sample_size = len(matching_bases) // 2\n",
    "print(\"Sample size:\", sample_size)\n",
    "random_sample = random.sample(range(len(matching_bases)), sample_size)\n",
    "\n",
    "\n",
    "bob_sample_key = [bob_key[i] for i in random_sample]\n",
    "alice_sample_key = [alice_key_shared[i] for i in random_sample]\n",
    "\n",
    "print(\"Checking for eavesdropping...\")\n",
    "print(\"Check done by comparing a random sample of the keys\")\n",
    "print(\"---------------------------------------------------\")\n",
    "print(\"Alice's sample key: \", alice_sample_key)\n",
    "print(\"Bob's sample key:   \", bob_sample_key)\n",
    "print(\"---------------------------------------------------\")\n",
    "\n",
    "if alice_sample_key == bob_sample_key:\n",
    "    print(\"No eavesdropping detected in random sample.\")\n",
    "else:\n",
    "    print(\"Eavesdropping detected in random sample. Secure key exchange not possible.\")\n",
    "    \n",
    "\n",
    "probability = 0.75 ** sample_size\n",
    "\n",
    "print(\"Probability of NOT detecting eavesdropping if it exists:\", probability)\n",
    "\n",
    "print(\"---------------------------------------------------\")"
   ],
   "id": "e3af24c6626d29d3",
   "outputs": [
    {
     "name": "stdout",
     "output_type": "stream",
     "text": [
      "Sample size: 7\n",
      "Checking for eavesdropping...\n",
      "Check done by comparing a random sample of the keys\n",
      "---------------------------------------------------\n",
      "Alice's sample key:  [1, 1, 0, 1, 0, 0, 1]\n",
      "Bob's sample key:    [1, 0, 0, 1, 1, 0, 1]\n",
      "---------------------------------------------------\n",
      "Eavesdropping detected in random sample. Secure key exchange not possible.\n",
      "Probability of NOT detecting eavesdropping if it exists: 0.13348388671875\n",
      "---------------------------------------------------\n"
     ]
    }
   ],
   "execution_count": 9
  },
  {
   "metadata": {
    "ExecuteTime": {
     "end_time": "2025-02-11T23:38:59.424509Z",
     "start_time": "2025-02-11T23:38:59.421958Z"
    }
   },
   "cell_type": "code",
   "source": [
    "# Computing the error rate\n",
    "error_rate = sum([1 for i in range(sample_size) if alice_sample_key[i] != bob_sample_key[i]]) / sample_size\n",
    "print(\"Error rate:\", error_rate)\n"
   ],
   "id": "c0787abd4cbfba12",
   "outputs": [
    {
     "name": "stdout",
     "output_type": "stream",
     "text": [
      "Error rate: 0.2857142857142857\n"
     ]
    }
   ],
   "execution_count": 10
  }
 ],
 "metadata": {
  "kernelspec": {
   "display_name": "Python 3",
   "language": "python",
   "name": "python3"
  },
  "language_info": {
   "codemirror_mode": {
    "name": "ipython",
    "version": 2
   },
   "file_extension": ".py",
   "mimetype": "text/x-python",
   "name": "python",
   "nbconvert_exporter": "python",
   "pygments_lexer": "ipython2",
   "version": "2.7.6"
  }
 },
 "nbformat": 4,
 "nbformat_minor": 5
}
