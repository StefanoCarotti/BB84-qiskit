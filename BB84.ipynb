{
 "cells": [
  {
   "metadata": {
    "ExecuteTime": {
     "end_time": "2025-02-11T23:14:09.632936Z",
     "start_time": "2025-02-11T23:14:09.313351Z"
    }
   },
   "cell_type": "code",
   "source": [
    "# Import necessary modules\n",
    "from qiskit import QuantumCircuit, ClassicalRegister, QuantumRegister, transpile\n",
    "from qiskit_aer import Aer\n",
    "from qiskit.visualization import plot_histogram\n",
    "import random\n",
    "import numpy as np"
   ],
   "id": "f6f7197c4282210d",
   "outputs": [],
   "execution_count": 1
  },
  {
   "metadata": {},
   "cell_type": "markdown",
   "source": [
    "# BB84 Protocol\n",
    "This is a simple implementation of the BB84 protocol using Qiskit. The BB84 protocol is a quantum key distribution protocol that allows two parties, Alice and Bob, to share a secret key over an insecure channel. \n"
   ],
   "id": "dd4c5ec88deb7227"
  },
  {
   "metadata": {
    "ExecuteTime": {
     "end_time": "2025-02-11T23:26:13.838826Z",
     "start_time": "2025-02-11T23:26:13.829856Z"
    }
   },
   "cell_type": "code",
   "source": [
    "# Setting up the environment\n",
    "n = 28 # Length of the key to be generated\n",
    "\n",
    "#Alice's operations\n",
    "\n",
    "circuit = QuantumCircuit(n, n)\n",
    "\n",
    "alice_key = np.random.randint(0, 2, size = n)   # Random key \n",
    "alice_basis = np.random.randint(0, 2, size=n)  # Random basis (0 = Z-basis, 1 = X-basis)\n",
    "\n",
    "\n",
    "for i, bit in enumerate(alice_key): \n",
    "    if bit == 1:        \n",
    "        circuit.x(i)  \n",
    "\n",
    "\n",
    "for i, basis in enumerate(alice_basis):\n",
    "    if basis == 1:\n",
    "        circuit.h(i) \n",
    "\n",
    "print(alice_key)"
   ],
   "id": "1ed4b9186d8ffb0d",
   "outputs": [
    {
     "name": "stdout",
     "output_type": "stream",
     "text": [
      "[1 0 1 0 0 0 1 0 1 1 1 0 1 0 1 0 1 0 0 1 0 0 1 0 0 1 0 0]\n"
     ]
    }
   ],
   "execution_count": 13
  },
  {
   "metadata": {
    "ExecuteTime": {
     "end_time": "2025-02-11T23:26:22.242966Z",
     "start_time": "2025-02-11T23:26:14.297568Z"
    }
   },
   "cell_type": "code",
   "source": [
    "# Bob's operations\n",
    "bob_basis = np.random.randint(0, 2, size=n)\n",
    "\n",
    "for i, basis in enumerate(bob_basis):\n",
    "    if basis == 1:\n",
    "        circuit.h(i)  # Apply Hadamard for diagonal basis\n",
    "\n",
    "# Bob measures the qubits\n",
    "circuit.measure(range(n), range(n))\n",
    "\n",
    "# Run the simulation\n",
    "simulator = Aer.get_backend('qasm_simulator')\n",
    "circ = transpile(circuit, simulator)\n",
    "result = simulator.run(circ, shots = 1).result()\n",
    "counts = result.get_counts(circ)\n",
    "#plot_histogram(counts)"
   ],
   "id": "c2d994382f195e63",
   "outputs": [],
   "execution_count": 14
  },
  {
   "metadata": {
    "ExecuteTime": {
     "end_time": "2025-02-11T23:26:23.554465Z",
     "start_time": "2025-02-11T23:26:23.550622Z"
    }
   },
   "cell_type": "code",
   "source": [
    "total_measurements = sum(counts.values())\n",
    "print(\"Total Measurements:\", total_measurements)"
   ],
   "id": "5b79147b4ae0c86",
   "outputs": [
    {
     "name": "stdout",
     "output_type": "stream",
     "text": [
      "Total Measurements: 1\n"
     ]
    }
   ],
   "execution_count": 15
  },
  {
   "metadata": {
    "ExecuteTime": {
     "end_time": "2025-02-11T23:26:24.135111Z",
     "start_time": "2025-02-11T23:26:24.132188Z"
    }
   },
   "cell_type": "code",
   "source": [
    "most_common_result = max(counts, key=counts.get)\n",
    "print(\"Most common result:\", most_common_result)\n",
    "\n",
    "bob_result = most_common_result\n",
    "bob_result = np.array([int(k) for k in bob_result]) # Convert to an array\n",
    "bob_result = np.flip(bob_result) # Reverse the order of the bits"
   ],
   "id": "f2b08d4e4feeff3",
   "outputs": [
    {
     "name": "stdout",
     "output_type": "stream",
     "text": [
      "Most common result: 1111010011011101011011100101\n"
     ]
    }
   ],
   "execution_count": 16
  },
  {
   "metadata": {
    "ExecuteTime": {
     "end_time": "2025-02-11T23:26:25.427550Z",
     "start_time": "2025-02-11T23:26:25.423846Z"
    }
   },
   "cell_type": "code",
   "source": [
    "# Key generation through basis reconciliation\n",
    "shared_key = []\n",
    "for i in range(n): #The only communication between A and B is to compare their basis,\n",
    "    if alice_basis[i] == bob_basis[i]:   #no information about the qubits is exchanged.\n",
    "        shared_key.append(bob_result[i]) \n",
    "shared_key = np.array(shared_key)\n",
    "\n",
    "# Output results\n",
    "print(\"Simulation BB84 Protocol with\", n, \"qubits\")\n",
    "print(\"--------------------\")\n",
    "print(\"Alice's Basis:\", alice_basis)\n",
    "print(\"Bob's Basis:  \", bob_basis)\n",
    "print(\"--------------------\")\n",
    "print(\"Alice's Key:\", alice_key)  \n",
    "print(\"Bob's Key:  \", bob_result)\n",
    "print(\"Shared Key: \", shared_key)\n",
    "\n",
    "#print(\"Alice length of key:\", len(alice_key))\n",
    "#print(\"Bob length of key:\", len(bob_result))"
   ],
   "id": "ac8d85cdf185422a",
   "outputs": [
    {
     "name": "stdout",
     "output_type": "stream",
     "text": [
      "Simulation BB84 Protocol with 28 qubits\n",
      "--------------------\n",
      "Alice's Basis: [1 1 1 1 0 0 1 0 0 0 0 1 1 0 1 0 1 0 1 1 0 1 1 1 0 1 1 0]\n",
      "Bob's Basis:   [0 1 0 0 0 1 1 1 1 1 0 1 0 1 1 1 0 0 0 0 1 1 1 0 1 1 0 1]\n",
      "--------------------\n",
      "Alice's Key: [1 0 1 0 0 0 1 0 1 1 1 0 1 0 1 0 1 0 0 1 0 0 1 0 0 1 0 0]\n",
      "Bob's Key:   [1 0 1 0 0 1 1 1 0 1 1 0 1 0 1 1 1 0 1 1 0 0 1 0 1 1 1 1]\n",
      "Shared Key:  [0 0 1 1 0 1 0 0 1 1]\n",
      "Alice length of key: 28\n",
      "Bob length of key: 28\n"
     ]
    }
   ],
   "execution_count": 17
  },
  {
   "metadata": {
    "ExecuteTime": {
     "end_time": "2025-02-11T23:26:39.639387Z",
     "start_time": "2025-02-11T23:26:39.636246Z"
    }
   },
   "cell_type": "code",
   "source": [
    "# Last check to see if the keys are the same\n",
    "matching_bases = [i for i in range(n) if alice_basis[i] == bob_basis[i]] # Communication only happens regarding the bases, not the qubits\n",
    "\n",
    "bob_key_shared = [bob_result[i] for i in matching_bases]\n",
    "alice_key_shared = [alice_key[i] for i in matching_bases]\n",
    "print(\"Matching bases:\", matching_bases)\n",
    "\n",
    "print(\"Alice's key:\", alice_key_shared)\n",
    "print(\"Bob's key:  \", bob_key_shared)\n"
   ],
   "id": "e5555ba2c8af5c8e",
   "outputs": [
    {
     "name": "stdout",
     "output_type": "stream",
     "text": [
      "Matching bases: [1, 4, 6, 10, 11, 14, 17, 21, 22, 25]\n",
      "Alice's key: [0, 0, 1, 1, 0, 1, 0, 0, 1, 1]\n",
      "Bob's key:   [0, 0, 1, 1, 0, 1, 0, 0, 1, 1]\n"
     ]
    }
   ],
   "execution_count": 18
  },
  {
   "metadata": {
    "ExecuteTime": {
     "end_time": "2025-02-11T23:26:42.705950Z",
     "start_time": "2025-02-11T23:26:42.702558Z"
    }
   },
   "cell_type": "code",
   "source": [
    "# Compare Alice's and Bob's key with a random sample of the key\n",
    "sample_size = len(matching_bases) // 2\n",
    "print(\"Sample size:\", sample_size)\n",
    "random_sample = random.sample(range(len(matching_bases)), sample_size)\n",
    "\n",
    "\n",
    "bob_sample_key = [bob_key_shared[i] for i in random_sample]\n",
    "alice_sample_key = [alice_key_shared[i] for i in random_sample]\n",
    "\n",
    "print(\"Checking for eavesdropping...\")\n",
    "print(\"Check done by comparing a random sample of the keys\")\n",
    "print(\"---------------------------------------------------\")\n",
    "\n",
    "if alice_sample_key == bob_sample_key:\n",
    "    print(\"No eavesdropping detected in random sample.\")\n",
    "else:\n",
    "    print(\"Eavesdropping detected in random sample. Secure key exchange not possible.\")\n",
    "    "
   ],
   "id": "e630ecbda871f37e",
   "outputs": [
    {
     "name": "stdout",
     "output_type": "stream",
     "text": [
      "Sample size: 5\n",
      "Checking for eavesdropping...\n",
      "Check done by comparing a random sample of the keys\n",
      "---------------------------------------------------\n",
      "No eavesdropping detected in random sample.\n"
     ]
    }
   ],
   "execution_count": 19
  },
  {
   "metadata": {},
   "cell_type": "code",
   "outputs": [],
   "execution_count": null,
   "source": "",
   "id": "4ecc2d1aa4ebdf7d"
  }
 ],
 "metadata": {
  "kernelspec": {
   "display_name": "Python 3",
   "language": "python",
   "name": "python3"
  },
  "language_info": {
   "codemirror_mode": {
    "name": "ipython",
    "version": 2
   },
   "file_extension": ".py",
   "mimetype": "text/x-python",
   "name": "python",
   "nbconvert_exporter": "python",
   "pygments_lexer": "ipython2",
   "version": "2.7.6"
  }
 },
 "nbformat": 4,
 "nbformat_minor": 5
}
